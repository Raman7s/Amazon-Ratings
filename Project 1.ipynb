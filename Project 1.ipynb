{
 "cells": [
  {
   "cell_type": "markdown",
   "id": "7ffb1d53",
   "metadata": {},
   "source": [
    "# Amazon All Categories Best Seller and Review"
   ]
  },
  {
   "cell_type": "markdown",
   "id": "378d7467",
   "metadata": {},
   "source": [
    "##### Data from amazon US on the top 50 selling product and 40 listed categories. \n",
    "(https://www.kaggle.com/datasets/tigboatnc/amazon-all-categories-best-sellers-reviews)\n"
   ]
  },
  {
   "cell_type": "markdown",
   "id": "18fc9d72",
   "metadata": {},
   "source": [
    "##### Includes:\n",
    "    > Product Name\n",
    "    > Product Categories\n",
    "    > Ranking of product in its categories\n",
    "    > Product review count(Number of review)\n",
    "    > Product review(first page of review)\n",
    "       ~includes Meta + Full Review + Rating given by review\n",
    "    > Cost of item at the time of scraping\n",
    "    > Product URL"
   ]
  },
  {
   "cell_type": "markdown",
   "id": "72b71a56",
   "metadata": {},
   "source": [
    "## Import the required modules"
   ]
  },
  {
   "cell_type": "code",
   "execution_count": 124,
   "id": "ab2f5615",
   "metadata": {},
   "outputs": [],
   "source": [
    "import numpy as np\n",
    "import pandas as pd\n",
    "import matplotlib.pyplot as plt\n",
    "import seaborn as sns"
   ]
  },
  {
   "cell_type": "markdown",
   "id": "4fb1ee24",
   "metadata": {},
   "source": [
    "#### Uploading the  amazon dataset"
   ]
  },
  {
   "cell_type": "code",
   "execution_count": 125,
   "id": "203d33e6",
   "metadata": {
    "scrolled": true
   },
   "outputs": [
    {
     "data": {
      "text/html": [
       "<div>\n",
       "<style scoped>\n",
       "    .dataframe tbody tr th:only-of-type {\n",
       "        vertical-align: middle;\n",
       "    }\n",
       "\n",
       "    .dataframe tbody tr th {\n",
       "        vertical-align: top;\n",
       "    }\n",
       "\n",
       "    .dataframe thead th {\n",
       "        text-align: right;\n",
       "    }\n",
       "</style>\n",
       "<table border=\"1\" class=\"dataframe\">\n",
       "  <thead>\n",
       "    <tr style=\"text-align: right;\">\n",
       "      <th></th>\n",
       "      <th>Unnamed: 0</th>\n",
       "      <th>product_name</th>\n",
       "      <th>category</th>\n",
       "      <th>categoryRank</th>\n",
       "      <th>noRatings</th>\n",
       "      <th>cost</th>\n",
       "      <th>REVIEWLIST</th>\n",
       "      <th>product_url</th>\n",
       "    </tr>\n",
       "  </thead>\n",
       "  <tbody>\n",
       "    <tr>\n",
       "      <th>0</th>\n",
       "      <td>0</td>\n",
       "      <td>Fire TV Stick with Alexa Voice Remote (include...</td>\n",
       "      <td>Amazon Devices &amp; Accessories</td>\n",
       "      <td>#1</td>\n",
       "      <td>256,226</td>\n",
       "      <td>$39.99</td>\n",
       "      <td>[{'review_meta': 'Reviewed in the United State...</td>\n",
       "      <td>https://www.amazon.com/fire-tv-stick-with-3rd-...</td>\n",
       "    </tr>\n",
       "    <tr>\n",
       "      <th>1</th>\n",
       "      <td>1</td>\n",
       "      <td>All-new Ring Video Doorbell (2nd Gen) – 1080p ...</td>\n",
       "      <td>Amazon Devices &amp; Accessories</td>\n",
       "      <td>#2</td>\n",
       "      <td>112,689</td>\n",
       "      <td>$89.99 - $199.98</td>\n",
       "      <td>[{'review_meta': 'Reviewed in the United State...</td>\n",
       "      <td>https://www.amazon.com/All-new-Ring-Video-Door...</td>\n",
       "    </tr>\n",
       "    <tr>\n",
       "      <th>2</th>\n",
       "      <td>2</td>\n",
       "      <td>Echo Dot (3rd Gen, 2018 release) - Smart speak...</td>\n",
       "      <td>Amazon Devices &amp; Accessories</td>\n",
       "      <td>#3</td>\n",
       "      <td>936,447</td>\n",
       "      <td>$29.99</td>\n",
       "      <td>[{'review_meta': 'Reviewed in the United State...</td>\n",
       "      <td>https://www.amazon.com/Echo-Dot/dp/B07FZ8S74R/...</td>\n",
       "    </tr>\n",
       "    <tr>\n",
       "      <th>3</th>\n",
       "      <td>3</td>\n",
       "      <td>Fire TV Stick 4K Max streaming device, Wi-Fi 6...</td>\n",
       "      <td>Amazon Devices &amp; Accessories</td>\n",
       "      <td>#4</td>\n",
       "      <td>69,684</td>\n",
       "      <td>$54.99</td>\n",
       "      <td>[{'review_meta': 'Reviewed in the United State...</td>\n",
       "      <td>https://www.amazon.com/fire-tv-stick-4k-max-wi...</td>\n",
       "    </tr>\n",
       "    <tr>\n",
       "      <th>4</th>\n",
       "      <td>4</td>\n",
       "      <td>Amazon Smart Plug</td>\n",
       "      <td>Amazon Devices &amp; Accessories</td>\n",
       "      <td>#5</td>\n",
       "      <td>508,565</td>\n",
       "      <td>$24.99</td>\n",
       "      <td>[{'review_meta': 'Reviewed in the United State...</td>\n",
       "      <td>https://www.amazon.com/Amazon-Smart-Plug/dp/B0...</td>\n",
       "    </tr>\n",
       "    <tr>\n",
       "      <th>...</th>\n",
       "      <td>...</td>\n",
       "      <td>...</td>\n",
       "      <td>...</td>\n",
       "      <td>...</td>\n",
       "      <td>...</td>\n",
       "      <td>...</td>\n",
       "      <td>...</td>\n",
       "      <td>...</td>\n",
       "    </tr>\n",
       "    <tr>\n",
       "      <th>1311</th>\n",
       "      <td>1311</td>\n",
       "      <td>Roblox Digital Gift Card - 4,500 Robux [Includ...</td>\n",
       "      <td>Video Games</td>\n",
       "      <td>#26</td>\n",
       "      <td>112,204</td>\n",
       "      <td>$44.99</td>\n",
       "      <td>[{'review_meta': 'Reviewed in the United State...</td>\n",
       "      <td>https://www.amazon.com/Robux-Roblox-Online-Gam...</td>\n",
       "    </tr>\n",
       "    <tr>\n",
       "      <th>1312</th>\n",
       "      <td>1312</td>\n",
       "      <td>Animal Crossing: New Horizons - Nintendo Switch</td>\n",
       "      <td>Video Games</td>\n",
       "      <td>#27</td>\n",
       "      <td>67,564</td>\n",
       "      <td>[]</td>\n",
       "      <td>[{'review_meta': 'Reviewed in the United State...</td>\n",
       "      <td>https://www.amazon.com/Animal-Crossing-New-Hor...</td>\n",
       "    </tr>\n",
       "    <tr>\n",
       "      <th>1313</th>\n",
       "      <td>1313</td>\n",
       "      <td>Roblox Digital Gift Card - 10,000 Robux [Inclu...</td>\n",
       "      <td>Video Games</td>\n",
       "      <td>#28</td>\n",
       "      <td>112,204</td>\n",
       "      <td>$89.99</td>\n",
       "      <td>[{'review_meta': 'Reviewed in the United State...</td>\n",
       "      <td>https://www.amazon.com/Roblox-Gift-Card-Exclus...</td>\n",
       "    </tr>\n",
       "    <tr>\n",
       "      <th>1314</th>\n",
       "      <td>1314</td>\n",
       "      <td>VALORANT $10 Gift Card - PC [Online Game Code]</td>\n",
       "      <td>Video Games</td>\n",
       "      <td>#29</td>\n",
       "      <td>9,153</td>\n",
       "      <td>$10.00</td>\n",
       "      <td>[{'review_meta': 'Reviewed in the United State...</td>\n",
       "      <td>https://www.amazon.com/VALORANT-10-Gift-Card-O...</td>\n",
       "    </tr>\n",
       "    <tr>\n",
       "      <th>1315</th>\n",
       "      <td>1315</td>\n",
       "      <td>Xbox Game Pass Ultimate: 3 Month Membership [D...</td>\n",
       "      <td>Video Games</td>\n",
       "      <td>#30</td>\n",
       "      <td>27,121</td>\n",
       "      <td>$39.99</td>\n",
       "      <td>[{'review_meta': 'Reviewed in the United State...</td>\n",
       "      <td>https://www.amazon.com/Xbox-Game-Pass-Ultimate...</td>\n",
       "    </tr>\n",
       "  </tbody>\n",
       "</table>\n",
       "<p>1316 rows × 8 columns</p>\n",
       "</div>"
      ],
      "text/plain": [
       "      Unnamed: 0                                       product_name  \\\n",
       "0              0  Fire TV Stick with Alexa Voice Remote (include...   \n",
       "1              1  All-new Ring Video Doorbell (2nd Gen) – 1080p ...   \n",
       "2              2  Echo Dot (3rd Gen, 2018 release) - Smart speak...   \n",
       "3              3  Fire TV Stick 4K Max streaming device, Wi-Fi 6...   \n",
       "4              4                                  Amazon Smart Plug   \n",
       "...          ...                                                ...   \n",
       "1311        1311  Roblox Digital Gift Card - 4,500 Robux [Includ...   \n",
       "1312        1312    Animal Crossing: New Horizons - Nintendo Switch   \n",
       "1313        1313  Roblox Digital Gift Card - 10,000 Robux [Inclu...   \n",
       "1314        1314     VALORANT $10 Gift Card - PC [Online Game Code]   \n",
       "1315        1315  Xbox Game Pass Ultimate: 3 Month Membership [D...   \n",
       "\n",
       "                          category categoryRank noRatings              cost  \\\n",
       "0     Amazon Devices & Accessories           #1   256,226            $39.99   \n",
       "1     Amazon Devices & Accessories           #2   112,689  $89.99 - $199.98   \n",
       "2     Amazon Devices & Accessories           #3   936,447            $29.99   \n",
       "3     Amazon Devices & Accessories           #4    69,684            $54.99   \n",
       "4     Amazon Devices & Accessories           #5   508,565            $24.99   \n",
       "...                            ...          ...       ...               ...   \n",
       "1311                   Video Games          #26   112,204            $44.99   \n",
       "1312                   Video Games          #27    67,564                []   \n",
       "1313                   Video Games          #28   112,204            $89.99   \n",
       "1314                   Video Games          #29     9,153            $10.00   \n",
       "1315                   Video Games          #30    27,121            $39.99   \n",
       "\n",
       "                                             REVIEWLIST  \\\n",
       "0     [{'review_meta': 'Reviewed in the United State...   \n",
       "1     [{'review_meta': 'Reviewed in the United State...   \n",
       "2     [{'review_meta': 'Reviewed in the United State...   \n",
       "3     [{'review_meta': 'Reviewed in the United State...   \n",
       "4     [{'review_meta': 'Reviewed in the United State...   \n",
       "...                                                 ...   \n",
       "1311  [{'review_meta': 'Reviewed in the United State...   \n",
       "1312  [{'review_meta': 'Reviewed in the United State...   \n",
       "1313  [{'review_meta': 'Reviewed in the United State...   \n",
       "1314  [{'review_meta': 'Reviewed in the United State...   \n",
       "1315  [{'review_meta': 'Reviewed in the United State...   \n",
       "\n",
       "                                            product_url  \n",
       "0     https://www.amazon.com/fire-tv-stick-with-3rd-...  \n",
       "1     https://www.amazon.com/All-new-Ring-Video-Door...  \n",
       "2     https://www.amazon.com/Echo-Dot/dp/B07FZ8S74R/...  \n",
       "3     https://www.amazon.com/fire-tv-stick-4k-max-wi...  \n",
       "4     https://www.amazon.com/Amazon-Smart-Plug/dp/B0...  \n",
       "...                                                 ...  \n",
       "1311  https://www.amazon.com/Robux-Roblox-Online-Gam...  \n",
       "1312  https://www.amazon.com/Animal-Crossing-New-Hor...  \n",
       "1313  https://www.amazon.com/Roblox-Gift-Card-Exclus...  \n",
       "1314  https://www.amazon.com/VALORANT-10-Gift-Card-O...  \n",
       "1315  https://www.amazon.com/Xbox-Game-Pass-Ultimate...  \n",
       "\n",
       "[1316 rows x 8 columns]"
      ]
     },
     "execution_count": 125,
     "metadata": {},
     "output_type": "execute_result"
    }
   ],
   "source": [
    "amazon_data = pd.read_csv(\"amazon.csv\")\n",
    "amazon_data"
   ]
  },
  {
   "cell_type": "code",
   "execution_count": 126,
   "id": "87829f10",
   "metadata": {
    "scrolled": true
   },
   "outputs": [
    {
     "data": {
      "text/plain": [
       "(1316, 8)"
      ]
     },
     "execution_count": 126,
     "metadata": {},
     "output_type": "execute_result"
    }
   ],
   "source": [
    "amazon_data.shape"
   ]
  },
  {
   "cell_type": "code",
   "execution_count": 127,
   "id": "f8a8fd5a",
   "metadata": {
    "scrolled": false
   },
   "outputs": [
    {
     "data": {
      "text/html": [
       "<div>\n",
       "<style scoped>\n",
       "    .dataframe tbody tr th:only-of-type {\n",
       "        vertical-align: middle;\n",
       "    }\n",
       "\n",
       "    .dataframe tbody tr th {\n",
       "        vertical-align: top;\n",
       "    }\n",
       "\n",
       "    .dataframe thead th {\n",
       "        text-align: right;\n",
       "    }\n",
       "</style>\n",
       "<table border=\"1\" class=\"dataframe\">\n",
       "  <thead>\n",
       "    <tr style=\"text-align: right;\">\n",
       "      <th></th>\n",
       "      <th>Unnamed: 0</th>\n",
       "      <th>product_name</th>\n",
       "      <th>category</th>\n",
       "      <th>categoryRank</th>\n",
       "      <th>noRatings</th>\n",
       "      <th>cost</th>\n",
       "      <th>REVIEWLIST</th>\n",
       "      <th>product_url</th>\n",
       "    </tr>\n",
       "  </thead>\n",
       "  <tbody>\n",
       "    <tr>\n",
       "      <th>0</th>\n",
       "      <td>0</td>\n",
       "      <td>Fire TV Stick with Alexa Voice Remote (include...</td>\n",
       "      <td>Amazon Devices &amp; Accessories</td>\n",
       "      <td>#1</td>\n",
       "      <td>256,226</td>\n",
       "      <td>$39.99</td>\n",
       "      <td>[{'review_meta': 'Reviewed in the United State...</td>\n",
       "      <td>https://www.amazon.com/fire-tv-stick-with-3rd-...</td>\n",
       "    </tr>\n",
       "    <tr>\n",
       "      <th>1</th>\n",
       "      <td>1</td>\n",
       "      <td>All-new Ring Video Doorbell (2nd Gen) – 1080p ...</td>\n",
       "      <td>Amazon Devices &amp; Accessories</td>\n",
       "      <td>#2</td>\n",
       "      <td>112,689</td>\n",
       "      <td>$89.99 - $199.98</td>\n",
       "      <td>[{'review_meta': 'Reviewed in the United State...</td>\n",
       "      <td>https://www.amazon.com/All-new-Ring-Video-Door...</td>\n",
       "    </tr>\n",
       "    <tr>\n",
       "      <th>2</th>\n",
       "      <td>2</td>\n",
       "      <td>Echo Dot (3rd Gen, 2018 release) - Smart speak...</td>\n",
       "      <td>Amazon Devices &amp; Accessories</td>\n",
       "      <td>#3</td>\n",
       "      <td>936,447</td>\n",
       "      <td>$29.99</td>\n",
       "      <td>[{'review_meta': 'Reviewed in the United State...</td>\n",
       "      <td>https://www.amazon.com/Echo-Dot/dp/B07FZ8S74R/...</td>\n",
       "    </tr>\n",
       "    <tr>\n",
       "      <th>3</th>\n",
       "      <td>3</td>\n",
       "      <td>Fire TV Stick 4K Max streaming device, Wi-Fi 6...</td>\n",
       "      <td>Amazon Devices &amp; Accessories</td>\n",
       "      <td>#4</td>\n",
       "      <td>69,684</td>\n",
       "      <td>$54.99</td>\n",
       "      <td>[{'review_meta': 'Reviewed in the United State...</td>\n",
       "      <td>https://www.amazon.com/fire-tv-stick-4k-max-wi...</td>\n",
       "    </tr>\n",
       "    <tr>\n",
       "      <th>4</th>\n",
       "      <td>4</td>\n",
       "      <td>Amazon Smart Plug</td>\n",
       "      <td>Amazon Devices &amp; Accessories</td>\n",
       "      <td>#5</td>\n",
       "      <td>508,565</td>\n",
       "      <td>$24.99</td>\n",
       "      <td>[{'review_meta': 'Reviewed in the United State...</td>\n",
       "      <td>https://www.amazon.com/Amazon-Smart-Plug/dp/B0...</td>\n",
       "    </tr>\n",
       "    <tr>\n",
       "      <th>5</th>\n",
       "      <td>5</td>\n",
       "      <td>All-new Echo Dot (4th Gen) | Smart speaker wit...</td>\n",
       "      <td>Amazon Devices &amp; Accessories</td>\n",
       "      <td>#6</td>\n",
       "      <td>213,937</td>\n",
       "      <td>$49.99 - $77.98</td>\n",
       "      <td>[{'review_meta': 'Reviewed in the United State...</td>\n",
       "      <td>https://www.amazon.com/All-new-Smart-speaker-c...</td>\n",
       "    </tr>\n",
       "    <tr>\n",
       "      <th>6</th>\n",
       "      <td>6</td>\n",
       "      <td>Introducing Blink Video Doorbell - P</td>\n",
       "      <td>Amazon Devices &amp; Accessories</td>\n",
       "      <td>#7</td>\n",
       "      <td>55,172</td>\n",
       "      <td>$49.99 - $279.98</td>\n",
       "      <td>[{'review_meta': 'Reviewed in the United State...</td>\n",
       "      <td>https://www.amazon.com/Introducing-Blink-Video...</td>\n",
       "    </tr>\n",
       "    <tr>\n",
       "      <th>7</th>\n",
       "      <td>7</td>\n",
       "      <td>Echo Dot (4th Gen, 2020 release) | Smart speak...</td>\n",
       "      <td>Amazon Devices &amp; Accessories</td>\n",
       "      <td>#8</td>\n",
       "      <td>505,383</td>\n",
       "      <td>$39.99</td>\n",
       "      <td>[{'review_meta': 'Reviewed in the United State...</td>\n",
       "      <td>https://www.amazon.com/Echo-Dot/dp/B07XJ8C8F5/...</td>\n",
       "    </tr>\n",
       "    <tr>\n",
       "      <th>8</th>\n",
       "      <td>8</td>\n",
       "      <td>Blink Mini – Compact indoor plug-in smart secu...</td>\n",
       "      <td>Amazon Devices &amp; Accessories</td>\n",
       "      <td>#9</td>\n",
       "      <td>200,207</td>\n",
       "      <td>$34.99 - $84.99</td>\n",
       "      <td>[{'review_meta': 'Reviewed in the United State...</td>\n",
       "      <td>https://www.amazon.com/Blink-Mini-plug-securit...</td>\n",
       "    </tr>\n",
       "    <tr>\n",
       "      <th>9</th>\n",
       "      <td>9</td>\n",
       "      <td>Kindle Paperwhite (8 GB) – Now with a 6.8\" dis...</td>\n",
       "      <td>Amazon Devices &amp; Accessories</td>\n",
       "      <td>#10</td>\n",
       "      <td>12,075</td>\n",
       "      <td>$139.99</td>\n",
       "      <td>[{'review_meta': 'Reviewed in the United State...</td>\n",
       "      <td>https://www.amazon.com/All-new-Kindle-Paperwhi...</td>\n",
       "    </tr>\n",
       "  </tbody>\n",
       "</table>\n",
       "</div>"
      ],
      "text/plain": [
       "   Unnamed: 0                                       product_name  \\\n",
       "0           0  Fire TV Stick with Alexa Voice Remote (include...   \n",
       "1           1  All-new Ring Video Doorbell (2nd Gen) – 1080p ...   \n",
       "2           2  Echo Dot (3rd Gen, 2018 release) - Smart speak...   \n",
       "3           3  Fire TV Stick 4K Max streaming device, Wi-Fi 6...   \n",
       "4           4                                  Amazon Smart Plug   \n",
       "5           5  All-new Echo Dot (4th Gen) | Smart speaker wit...   \n",
       "6           6               Introducing Blink Video Doorbell - P   \n",
       "7           7  Echo Dot (4th Gen, 2020 release) | Smart speak...   \n",
       "8           8  Blink Mini – Compact indoor plug-in smart secu...   \n",
       "9           9  Kindle Paperwhite (8 GB) – Now with a 6.8\" dis...   \n",
       "\n",
       "                       category categoryRank noRatings              cost  \\\n",
       "0  Amazon Devices & Accessories           #1   256,226            $39.99   \n",
       "1  Amazon Devices & Accessories           #2   112,689  $89.99 - $199.98   \n",
       "2  Amazon Devices & Accessories           #3   936,447            $29.99   \n",
       "3  Amazon Devices & Accessories           #4    69,684            $54.99   \n",
       "4  Amazon Devices & Accessories           #5   508,565            $24.99   \n",
       "5  Amazon Devices & Accessories           #6   213,937   $49.99 - $77.98   \n",
       "6  Amazon Devices & Accessories           #7    55,172  $49.99 - $279.98   \n",
       "7  Amazon Devices & Accessories           #8   505,383            $39.99   \n",
       "8  Amazon Devices & Accessories           #9   200,207   $34.99 - $84.99   \n",
       "9  Amazon Devices & Accessories          #10    12,075           $139.99   \n",
       "\n",
       "                                          REVIEWLIST  \\\n",
       "0  [{'review_meta': 'Reviewed in the United State...   \n",
       "1  [{'review_meta': 'Reviewed in the United State...   \n",
       "2  [{'review_meta': 'Reviewed in the United State...   \n",
       "3  [{'review_meta': 'Reviewed in the United State...   \n",
       "4  [{'review_meta': 'Reviewed in the United State...   \n",
       "5  [{'review_meta': 'Reviewed in the United State...   \n",
       "6  [{'review_meta': 'Reviewed in the United State...   \n",
       "7  [{'review_meta': 'Reviewed in the United State...   \n",
       "8  [{'review_meta': 'Reviewed in the United State...   \n",
       "9  [{'review_meta': 'Reviewed in the United State...   \n",
       "\n",
       "                                         product_url  \n",
       "0  https://www.amazon.com/fire-tv-stick-with-3rd-...  \n",
       "1  https://www.amazon.com/All-new-Ring-Video-Door...  \n",
       "2  https://www.amazon.com/Echo-Dot/dp/B07FZ8S74R/...  \n",
       "3  https://www.amazon.com/fire-tv-stick-4k-max-wi...  \n",
       "4  https://www.amazon.com/Amazon-Smart-Plug/dp/B0...  \n",
       "5  https://www.amazon.com/All-new-Smart-speaker-c...  \n",
       "6  https://www.amazon.com/Introducing-Blink-Video...  \n",
       "7  https://www.amazon.com/Echo-Dot/dp/B07XJ8C8F5/...  \n",
       "8  https://www.amazon.com/Blink-Mini-plug-securit...  \n",
       "9  https://www.amazon.com/All-new-Kindle-Paperwhi...  "
      ]
     },
     "execution_count": 127,
     "metadata": {},
     "output_type": "execute_result"
    }
   ],
   "source": [
    "amazon_data.head(10)"
   ]
  },
  {
   "cell_type": "code",
   "execution_count": null,
   "id": "439a511a",
   "metadata": {},
   "outputs": [],
   "source": []
  },
  {
   "cell_type": "code",
   "execution_count": 128,
   "id": "9ed51f70",
   "metadata": {
    "scrolled": true
   },
   "outputs": [
    {
     "data": {
      "text/html": [
       "<div>\n",
       "<style scoped>\n",
       "    .dataframe tbody tr th:only-of-type {\n",
       "        vertical-align: middle;\n",
       "    }\n",
       "\n",
       "    .dataframe tbody tr th {\n",
       "        vertical-align: top;\n",
       "    }\n",
       "\n",
       "    .dataframe thead th {\n",
       "        text-align: right;\n",
       "    }\n",
       "</style>\n",
       "<table border=\"1\" class=\"dataframe\">\n",
       "  <thead>\n",
       "    <tr style=\"text-align: right;\">\n",
       "      <th></th>\n",
       "      <th>Unnamed: 0</th>\n",
       "    </tr>\n",
       "  </thead>\n",
       "  <tbody>\n",
       "    <tr>\n",
       "      <th>count</th>\n",
       "      <td>1316.000000</td>\n",
       "    </tr>\n",
       "    <tr>\n",
       "      <th>mean</th>\n",
       "      <td>657.500000</td>\n",
       "    </tr>\n",
       "    <tr>\n",
       "      <th>std</th>\n",
       "      <td>380.040787</td>\n",
       "    </tr>\n",
       "    <tr>\n",
       "      <th>min</th>\n",
       "      <td>0.000000</td>\n",
       "    </tr>\n",
       "    <tr>\n",
       "      <th>25%</th>\n",
       "      <td>328.750000</td>\n",
       "    </tr>\n",
       "    <tr>\n",
       "      <th>50%</th>\n",
       "      <td>657.500000</td>\n",
       "    </tr>\n",
       "    <tr>\n",
       "      <th>75%</th>\n",
       "      <td>986.250000</td>\n",
       "    </tr>\n",
       "    <tr>\n",
       "      <th>max</th>\n",
       "      <td>1315.000000</td>\n",
       "    </tr>\n",
       "  </tbody>\n",
       "</table>\n",
       "</div>"
      ],
      "text/plain": [
       "        Unnamed: 0\n",
       "count  1316.000000\n",
       "mean    657.500000\n",
       "std     380.040787\n",
       "min       0.000000\n",
       "25%     328.750000\n",
       "50%     657.500000\n",
       "75%     986.250000\n",
       "max    1315.000000"
      ]
     },
     "execution_count": 128,
     "metadata": {},
     "output_type": "execute_result"
    }
   ],
   "source": [
    "# let describe this data set\n",
    "# we can see only 1 int value.\n",
    "\n",
    "amazon_data.describe()                   \n"
   ]
  },
  {
   "cell_type": "code",
   "execution_count": 129,
   "id": "a5b73bee",
   "metadata": {
    "scrolled": true
   },
   "outputs": [
    {
     "data": {
      "text/plain": [
       "Unnamed: 0      0\n",
       "product_name    0\n",
       "category        0\n",
       "categoryRank    2\n",
       "noRatings       0\n",
       "cost            0\n",
       "REVIEWLIST      0\n",
       "product_url     0\n",
       "dtype: int64"
      ]
     },
     "execution_count": 129,
     "metadata": {},
     "output_type": "execute_result"
    }
   ],
   "source": [
    "# checking for null value.\n",
    "\n",
    "amazon_data.isnull().sum()"
   ]
  },
  {
   "cell_type": "code",
   "execution_count": 130,
   "id": "223a7e8e",
   "metadata": {},
   "outputs": [
    {
     "data": {
      "text/plain": [
       "<AxesSubplot:>"
      ]
     },
     "execution_count": 130,
     "metadata": {},
     "output_type": "execute_result"
    },
    {
     "data": {
      "image/png": "[encoded data removed]",
      "text/plain": [
       "<Figure size 432x288 with 1 Axes>"
      ]
     },
     "metadata": {
      "needs_background": "light"
     },
     "output_type": "display_data"
    }
   ],
   "source": [
    "# let's plot some visualization to get some clear approch for data.\n",
    "\n",
    "amazon_data.boxplot()                     "
   ]
  },
  {
   "cell_type": "code",
   "execution_count": 131,
   "id": "6aaec4e8",
   "metadata": {},
   "outputs": [
    {
     "data": {
      "text/plain": [
       "array([[<AxesSubplot:title={'center':'Unnamed: 0'}>]], dtype=object)"
      ]
     },
     "execution_count": 131,
     "metadata": {},
     "output_type": "execute_result"
    },
    {
     "data": {
      "image/png": "[encoded data removed]",
      "text/plain": [
       "<Figure size 432x288 with 1 Axes>"
      ]
     },
     "metadata": {
      "needs_background": "light"
     },
     "output_type": "display_data"
    }
   ],
   "source": [
    "amazon_data.hist()            # the purpose of plotting histogram is to get a clear approch but we didn't get much."
   ]
  },
  {
   "cell_type": "markdown",
   "id": "0a6ff0aa",
   "metadata": {},
   "source": [
    "Obsevation: \n",
    "    1. Above plot can not clarify the data visualization properly.\n",
    "    "
   ]
  },
  {
   "cell_type": "code",
   "execution_count": 132,
   "id": "6bf6a218",
   "metadata": {
    "scrolled": true
   },
   "outputs": [
    {
     "name": "stdout",
     "output_type": "stream",
     "text": [
      "<class 'pandas.core.frame.DataFrame'>\n",
      "RangeIndex: 1316 entries, 0 to 1315\n",
      "Data columns (total 8 columns):\n",
      " #   Column        Non-Null Count  Dtype \n",
      "---  ------        --------------  ----- \n",
      " 0   Unnamed: 0    1316 non-null   int64 \n",
      " 1   product_name  1316 non-null   object\n",
      " 2   category      1316 non-null   object\n",
      " 3   categoryRank  1314 non-null   object\n",
      " 4   noRatings     1316 non-null   object\n",
      " 5   cost          1316 non-null   object\n",
      " 6   REVIEWLIST    1316 non-null   object\n",
      " 7   product_url   1316 non-null   object\n",
      "dtypes: int64(1), object(7)\n",
      "memory usage: 82.4+ KB\n"
     ]
    }
   ],
   "source": [
    "# checking infomation for null value\n",
    "\n",
    "amazon_data.info()"
   ]
  },
  {
   "cell_type": "markdown",
   "id": "74cca6dc",
   "metadata": {},
   "source": [
    "> The info shows I got a null value only in categoryRank"
   ]
  },
  {
   "cell_type": "markdown",
   "id": "8b1b8343",
   "metadata": {},
   "source": [
    "##### Data Cleaning Process using mean ,median,mode"
   ]
  },
  {
   "cell_type": "code",
   "execution_count": 133,
   "id": "d41b1d51",
   "metadata": {
    "scrolled": true
   },
   "outputs": [],
   "source": [
    "# define function using impute fillna\n",
    "\n",
    "def impute_median(series):\n",
    "    return series.fillna(series.median())"
   ]
  },
  {
   "cell_type": "code",
   "execution_count": 134,
   "id": "6a550916",
   "metadata": {},
   "outputs": [],
   "source": [
    "amazon_data['categoryRank'] = amazon_data['categoryRank'].apply(lambda x:str(x).replace('#',' ') if '#' in str(x) else str(x)).transform(impute_median)"
   ]
  },
  {
   "cell_type": "code",
   "execution_count": 135,
   "id": "d9b72a25",
   "metadata": {},
   "outputs": [
    {
     "data": {
      "text/plain": [
       "Unnamed: 0      0\n",
       "product_name    0\n",
       "category        0\n",
       "categoryRank    0\n",
       "noRatings       0\n",
       "cost            0\n",
       "REVIEWLIST      0\n",
       "product_url     0\n",
       "dtype: int64"
      ]
     },
     "execution_count": 135,
     "metadata": {},
     "output_type": "execute_result"
    }
   ],
   "source": [
    "amazon_data.isnull().sum()"
   ]
  },
  {
   "cell_type": "code",
   "execution_count": 136,
   "id": "9f1dfb6b",
   "metadata": {},
   "outputs": [
    {
     "name": "stdout",
     "output_type": "stream",
     "text": [
      "0          1\n",
      "1    817,360\n",
      "dtype: object\n",
      "0    []\n",
      "dtype: object\n"
     ]
    }
   ],
   "source": [
    "# mode\n",
    "\n",
    "print(amazon_data['noRatings'].mode())\n",
    "print(amazon_data['cost'].mode())"
   ]
  },
  {
   "cell_type": "code",
   "execution_count": 137,
   "id": "6f2c87f9",
   "metadata": {},
   "outputs": [],
   "source": [
    "# Replacing the unwanted data\n",
    "\n",
    "amazon_data['categoryRank'] = amazon_data['categoryRank'].apply(lambda x:str(x).replace('str(x)','float(x)') if 'x' in str(x) else float(x))\n",
    "\n",
    "amazon_data['noRatings'] = amazon_data['noRatings'].apply(lambda x:str(x).replace(',','') if ',' in str(x) else str(x))\n",
    "amazon_data['noRatings'] = amazon_data['noRatings'].apply(lambda x:str(x).replace('-','') if '-' in str(x) else str(x))\n",
    "amazon_data['noRatings'] = amazon_data['noRatings'].apply(lambda x:str(x).replace('str(x)','float(x)') if 'x' in str(x) else float(x))\n",
    "\n",
    "\n",
    "amazon_data['cost'] = amazon_data['cost'].apply(lambda x:str(x).replace('$','') if '$' in str(x) else str(x))\n",
    "amazon_data['cost'] = amazon_data['cost'].apply(lambda x:str(x).replace('-','') if '-' in str(x) else str(x))\n",
    "amazon_data['cost'] = amazon_data['cost'].apply(lambda x:str(x).replace('[]','0') if '[]' in str(x) else str(x))\n",
    "\n",
    "\n",
    "\n"
   ]
  },
  {
   "cell_type": "code",
   "execution_count": null,
   "id": "83c1d415",
   "metadata": {},
   "outputs": [],
   "source": []
  },
  {
   "cell_type": "markdown",
   "id": "8567b559",
   "metadata": {},
   "source": [
    "##### Observation : \n",
    "    1. cleaning and removing unwanted  data in dataset.\n",
    "    2. changed string numeric value to float value."
   ]
  },
  {
   "cell_type": "code",
   "execution_count": 138,
   "id": "e94b8e8d",
   "metadata": {
    "scrolled": true
   },
   "outputs": [
    {
     "data": {
      "text/html": [
       "<div>\n",
       "<style scoped>\n",
       "    .dataframe tbody tr th:only-of-type {\n",
       "        vertical-align: middle;\n",
       "    }\n",
       "\n",
       "    .dataframe tbody tr th {\n",
       "        vertical-align: top;\n",
       "    }\n",
       "\n",
       "    .dataframe thead th {\n",
       "        text-align: right;\n",
       "    }\n",
       "</style>\n",
       "<table border=\"1\" class=\"dataframe\">\n",
       "  <thead>\n",
       "    <tr style=\"text-align: right;\">\n",
       "      <th></th>\n",
       "      <th>Unnamed: 0</th>\n",
       "      <th>categoryRank</th>\n",
       "      <th>noRatings</th>\n",
       "    </tr>\n",
       "  </thead>\n",
       "  <tbody>\n",
       "    <tr>\n",
       "      <th>count</th>\n",
       "      <td>1316.000000</td>\n",
       "      <td>1314.00000</td>\n",
       "      <td>1316.000000</td>\n",
       "    </tr>\n",
       "    <tr>\n",
       "      <th>mean</th>\n",
       "      <td>657.500000</td>\n",
       "      <td>17.67656</td>\n",
       "      <td>46824.367781</td>\n",
       "    </tr>\n",
       "    <tr>\n",
       "      <th>std</th>\n",
       "      <td>380.040787</td>\n",
       "      <td>10.97902</td>\n",
       "      <td>106183.312797</td>\n",
       "    </tr>\n",
       "    <tr>\n",
       "      <th>min</th>\n",
       "      <td>0.000000</td>\n",
       "      <td>1.00000</td>\n",
       "      <td>1.000000</td>\n",
       "    </tr>\n",
       "    <tr>\n",
       "      <th>25%</th>\n",
       "      <td>328.750000</td>\n",
       "      <td>9.00000</td>\n",
       "      <td>1899.250000</td>\n",
       "    </tr>\n",
       "    <tr>\n",
       "      <th>50%</th>\n",
       "      <td>657.500000</td>\n",
       "      <td>17.00000</td>\n",
       "      <td>16138.000000</td>\n",
       "    </tr>\n",
       "    <tr>\n",
       "      <th>75%</th>\n",
       "      <td>986.250000</td>\n",
       "      <td>25.00000</td>\n",
       "      <td>53075.250000</td>\n",
       "    </tr>\n",
       "    <tr>\n",
       "      <th>max</th>\n",
       "      <td>1315.000000</td>\n",
       "      <td>50.00000</td>\n",
       "      <td>936447.000000</td>\n",
       "    </tr>\n",
       "  </tbody>\n",
       "</table>\n",
       "</div>"
      ],
      "text/plain": [
       "        Unnamed: 0  categoryRank      noRatings\n",
       "count  1316.000000    1314.00000    1316.000000\n",
       "mean    657.500000      17.67656   46824.367781\n",
       "std     380.040787      10.97902  106183.312797\n",
       "min       0.000000       1.00000       1.000000\n",
       "25%     328.750000       9.00000    1899.250000\n",
       "50%     657.500000      17.00000   16138.000000\n",
       "75%     986.250000      25.00000   53075.250000\n",
       "max    1315.000000      50.00000  936447.000000"
      ]
     },
     "execution_count": 138,
     "metadata": {},
     "output_type": "execute_result"
    }
   ],
   "source": [
    "# Once again describing the values\n",
    "\n",
    "amazon_data.describe()"
   ]
  },
  {
   "cell_type": "markdown",
   "id": "5c83a1b2",
   "metadata": {},
   "source": [
    "## DATA VISUALIZATION"
   ]
  },
  {
   "cell_type": "code",
   "execution_count": 149,
   "id": "7a7a5a80",
   "metadata": {},
   "outputs": [
    {
     "name": "stdout",
     "output_type": "stream",
     "text": [
      "category\n",
      "Amazon Devices & Accessories     25.500000\n",
      "Amazon Explore                   15.500000\n",
      "Amazon Launchpad                 15.500000\n",
      "Appliances                       15.310345\n",
      "Apps & Games                     15.500000\n",
      "Arts, Crafts & Sewing            15.500000\n",
      "Audible Books & Originals        15.500000\n",
      "Automotive                       15.500000\n",
      "Baby                             15.500000\n",
      "Beauty & Personal Care           15.500000\n",
      "Books                            15.500000\n",
      "CDs & Vinyl                      15.500000\n",
      "Camera & Photo Products          15.500000\n",
      "Cell Phones & Accessories        23.500000\n",
      "Clothing, Shoes & Jewelry        15.500000\n",
      "Collectible Coins                15.500000\n",
      "Computers & Accessories          15.500000\n",
      "Digital Educational Resources    15.500000\n",
      "Electronics                      15.500000\n",
      "Entertainment Collectibles       15.500000\n",
      "Gift Cards                       15.500000\n",
      "Grocery & Gourmet Food           15.500000\n",
      "Handmade Products                15.500000\n",
      "Health & Household               15.500000\n",
      "Home & Kitchen                   25.500000\n",
      "Industrial & Scientific          25.500000\n",
      "Kindle Store                     15.500000\n",
      "Kitchen & Dining                 15.500000\n",
      "Magazine Subscriptions           15.500000\n",
      "Movies & TV                      25.500000\n",
      "Musical Instruments              25.500000\n",
      "Office Products                  15.413793\n",
      "Patio, Lawn & Garden             15.500000\n",
      "Pet Supplies                     15.500000\n",
      "Software                         15.500000\n",
      "Sports & Outdoors                15.500000\n",
      "Sports Collectibles              15.500000\n",
      "Tools & Home Improvement         15.500000\n",
      "Toys & Games                     15.500000\n",
      "Video Games                      15.500000\n",
      "Name: categoryRank, dtype: float64\n",
      "category\n",
      "Amazon Devices & Accessories     108511.460000\n",
      "Amazon Explore                       45.366667\n",
      "Amazon Launchpad                  34311.433333\n",
      "Appliances                         4417.033333\n",
      "Apps & Games                       6260.666667\n",
      "Arts, Crafts & Sewing             22139.033333\n",
      "Audible Books & Originals         45637.733333\n",
      "Automotive                        47749.000000\n",
      "Baby                              44009.500000\n",
      "Beauty & Personal Care            71671.566667\n",
      "Books                             68275.866667\n",
      "CDs & Vinyl                        2143.233333\n",
      "Camera & Photo Products           17641.600000\n",
      "Cell Phones & Accessories         44847.456522\n",
      "Clothing, Shoes & Jewelry         67353.533333\n",
      "Collectible Coins                   831.700000\n",
      "Computers & Accessories           26027.433333\n",
      "Digital Educational Resources       921.500000\n",
      "Electronics                      117060.000000\n",
      "Entertainment Collectibles           76.300000\n",
      "Gift Cards                       408075.200000\n",
      "Grocery & Gourmet Food            54627.966667\n",
      "Handmade Products                  1856.433333\n",
      "Health & Household               112035.933333\n",
      "Home & Kitchen                    83449.080000\n",
      "Industrial & Scientific           28387.320000\n",
      "Kindle Store                      34358.666667\n",
      "Kitchen & Dining                  44144.800000\n",
      "Magazine Subscriptions             7907.633333\n",
      "Movies & TV                        6058.540000\n",
      "Musical Instruments               21484.140000\n",
      "Office Products                   41312.633333\n",
      "Patio, Lawn & Garden              31932.900000\n",
      "Pet Supplies                      60402.233333\n",
      "Software                           3253.866667\n",
      "Sports & Outdoors                 45951.100000\n",
      "Sports Collectibles                 532.400000\n",
      "Tools & Home Improvement          67742.766667\n",
      "Toys & Games                      24355.933333\n",
      "Video Games                       57048.966667\n",
      "Name: noRatings, dtype: float64\n"
     ]
    }
   ],
   "source": [
    "grp = amazon_data.groupby('category')\n",
    "grp\n",
    "\n",
    "x = grp['categoryRank'].agg(np.mean)\n",
    "y = grp['noRatings'].agg(np.mean)\n",
    "\n",
    "print(x)\n",
    "print(y)"
   ]
  },
  {
   "cell_type": "code",
   "execution_count": 152,
   "id": "75d891e8",
   "metadata": {},
   "outputs": [
    {
     "data": {
      "image/png": "[encoded data removed]",
      "text/plain": [
       "<Figure size 864x504 with 1 Axes>"
      ]
     },
     "metadata": {
      "needs_background": "light"
     },
     "output_type": "display_data"
    }
   ],
   "source": [
    "# scatter plot for visualization\n",
    "\n",
    "plt.figure(figsize=(12,7))\n",
    "\n",
    "plt.xticks(rotation=90)\n",
    "plt.plot(x,'ys');\n",
    "\n",
    "plt.title('Catergory According To Rank')\n",
    "\n",
    "plt.xlabel('categoryRank')\n",
    "plt.ylabel('frequency range')\n",
    "\n",
    "\n",
    "\n",
    "plt.show()\n"
   ]
  },
  {
   "cell_type": "markdown",
   "id": "a53fc4a8",
   "metadata": {},
   "source": [
    "##### Observation\n",
    "\n",
    "1. The above plot shows the rank according to their catergory.\n",
    "2. The top 5 products are shown whose rank is between 24 to 26."
   ]
  },
  {
   "cell_type": "code",
   "execution_count": 156,
   "id": "36faa111",
   "metadata": {},
   "outputs": [
    {
     "data": {
      "image/png": "[encoded data removed]",
      "text/plain": [
       "<Figure size 864x504 with 1 Axes>"
      ]
     },
     "metadata": {
      "needs_background": "light"
     },
     "output_type": "display_data"
    }
   ],
   "source": [
    "plt.figure(figsize=(12,7))\n",
    "plt.xticks(rotation=90)\n",
    "\n",
    "plt.plot(y,'go')\n",
    "\n",
    "plt.xlabel('category')\n",
    "plt.ylabel('Range')\n",
    "plt.title('category wise rating')\n",
    "\n",
    "\n",
    "plt.show()"
   ]
  },
  {
   "cell_type": "markdown",
   "id": "92882232",
   "metadata": {},
   "source": [
    "##### Observation\n",
    "\n",
    "1. In this plot the rating are given according to their products.\n",
    "2. The highest rating is seen in the plot."
   ]
  },
  {
   "cell_type": "code",
   "execution_count": null,
   "id": "f7686a8b",
   "metadata": {},
   "outputs": [],
   "source": []
  },
  {
   "cell_type": "code",
   "execution_count": null,
   "id": "18e4b21b",
   "metadata": {},
   "outputs": [],
   "source": []
  },
  {
   "cell_type": "code",
   "execution_count": null,
   "id": "9d066037",
   "metadata": {},
   "outputs": [],
   "source": []
  },
  {
   "cell_type": "markdown",
   "id": "632314e4",
   "metadata": {},
   "source": [
    "- After getting all the values.\n",
    "- Just some plots for undersating and analysing"
   ]
  },
  {
   "cell_type": "code",
   "execution_count": 24,
   "id": "36da8ebe",
   "metadata": {},
   "outputs": [
    {
     "data": {
      "text/plain": [
       "array([[<AxesSubplot:title={'center':'Unnamed: 0'}>,\n",
       "        <AxesSubplot:title={'center':'categoryRank'}>],\n",
       "       [<AxesSubplot:title={'center':'noRatings'}>, <AxesSubplot:>]],\n",
       "      dtype=object)"
      ]
     },
     "execution_count": 24,
     "metadata": {},
     "output_type": "execute_result"
    },
    {
     "data": {
      "image/png": "[encoded data removed]",
      "text/plain": [
       "<Figure size 360x360 with 4 Axes>"
      ]
     },
     "metadata": {
      "needs_background": "light"
     },
     "output_type": "display_data"
    }
   ],
   "source": [
    "amazon_data.hist(figsize=(5,5))"
   ]
  },
  {
   "cell_type": "code",
   "execution_count": 25,
   "id": "9570ade5",
   "metadata": {},
   "outputs": [
    {
     "data": {
      "text/plain": [
       "<AxesSubplot:>"
      ]
     },
     "execution_count": 25,
     "metadata": {},
     "output_type": "execute_result"
    },
    {
     "data": {
      "image/png": "[encoded data removed]",
      "text/plain": [
       "<Figure size 432x288 with 1 Axes>"
      ]
     },
     "metadata": {
      "needs_background": "light"
     },
     "output_type": "display_data"
    }
   ],
   "source": [
    "amazon_data.boxplot()"
   ]
  },
  {
   "cell_type": "code",
   "execution_count": null,
   "id": "7c7a393a",
   "metadata": {},
   "outputs": [],
   "source": []
  },
  {
   "cell_type": "code",
   "execution_count": null,
   "id": "ddf7c227",
   "metadata": {},
   "outputs": [],
   "source": []
  }
 ],
 "metadata": {
  "kernelspec": {
   "display_name": "Python 3 (ipykernel)",
   "language": "python",
   "name": "python3"
  },
  "language_info": {
   "codemirror_mode": {
    "name": "ipython",
    "version": 3
   },
   "file_extension": ".py",
   "mimetype": "text/x-python",
   "name": "python",
   "nbconvert_exporter": "python",
   "pygments_lexer": "ipython3",
   "version": "3.9.7"
  }
 },
 "nbformat": 4,
 "nbformat_minor": 5
}
